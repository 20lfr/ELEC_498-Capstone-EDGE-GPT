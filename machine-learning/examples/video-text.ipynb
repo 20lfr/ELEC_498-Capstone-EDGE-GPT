{
 "cells": [
  {
   "cell_type": "code",
   "execution_count": 21,
   "id": "7bf52d78-e8fa-4430-970c-6d5af3ce2400",
   "metadata": {},
   "outputs": [
    {
     "name": "stderr",
     "output_type": "stream",
     "text": [
      "huggingface/tokenizers: The current process just got forked, after parallelism has already been used. Disabling parallelism to avoid deadlocks...\n",
      "To disable this warning, you can either:\n",
      "\t- Avoid using `tokenizers` before the fork if possible\n",
      "\t- Explicitly set the environment variable TOKENIZERS_PARALLELISM=(true | false)\n"
     ]
    }
   ],
   "source": [
    "!pip install -q transformers accelerate flash_attn opencv-python bitsandbytes"
   ]
  },
  {
   "cell_type": "code",
   "execution_count": 22,
   "id": "8a11e7ee-754b-4f11-b5f7-1c95e3c79bb3",
   "metadata": {},
   "outputs": [],
   "source": [
    "from transformers import LlavaProcessor, LlavaForConditionalGeneration, BitsAndBytesConfig\n",
    "import gc, torch\n",
    "gc.collect()\n",
    "torch.cuda.empty_cache()\n",
    "\n",
    "model_id = \"llava-hf/llava-interleave-qwen-0.5b-hf\"\n",
    "processor = LlavaProcessor.from_pretrained(model_id)\n",
    "\n",
    "bnb_config = BitsAndBytesConfig(\n",
    "    load_in_4bit=True,   # or load_in_8bit=True\n",
    "    bnb_4bit_quant_type=\"nf4\",\n",
    "    bnb_4bit_use_double_quant=True,\n",
    "    bnb_4bit_compute_dtype=\"float16\"\n",
    ")\n",
    "\n",
    "processor = LlavaProcessor.from_pretrained(model_id)\n",
    "model = LlavaForConditionalGeneration.from_pretrained(\n",
    "    model_id,\n",
    "    quantization_config=bnb_config,\n",
    "    device_map=\"auto\"\n",
    ")\n"
   ]
  },
  {
   "cell_type": "code",
   "execution_count": 23,
   "id": "1979c1ca-1edb-4724-ae77-da0b8033c3a8",
   "metadata": {},
   "outputs": [],
   "source": [
    "import uuid\n",
    "import requests\n",
    "import cv2\n",
    "from PIL import Image\n",
    "\n",
    "def replace_video_with_images(text, frames):\n",
    "  return text.replace(\"<video>\", \"<image>\" * frames)\n",
    "\n",
    "def sample_frames(url, num_frames):\n",
    "\n",
    "    response = requests.get(url)\n",
    "    path_id = str(uuid.uuid4())\n",
    "\n",
    "    path = f\"./{path_id}.mp4\" \n",
    "\n",
    "    with open(path, \"wb\") as f:\n",
    "      f.write(response.content)\n",
    "\n",
    "    video = cv2.VideoCapture(path)\n",
    "    total_frames = int(video.get(cv2.CAP_PROP_FRAME_COUNT))\n",
    "    interval = total_frames // num_frames\n",
    "    frames = []\n",
    "    for i in range(total_frames):\n",
    "        ret, frame = video.read()\n",
    "        pil_img = Image.fromarray(cv2.cvtColor(frame, cv2.COLOR_BGR2RGB))\n",
    "        if not ret:\n",
    "            continue\n",
    "        if i % interval == 0:\n",
    "            frames.append(pil_img)\n",
    "    video.release()\n",
    "    return frames[:num_frames]"
   ]
  },
  {
   "cell_type": "code",
   "execution_count": 24,
   "id": "08fa3905-9a4a-4345-9ace-a7702ee41603",
   "metadata": {},
   "outputs": [
    {
     "data": {
      "text/plain": [
       "[<PIL.Image.Image image mode=RGB size=1920x1080>,\n",
       " <PIL.Image.Image image mode=RGB size=1920x1080>,\n",
       " <PIL.Image.Image image mode=RGB size=1920x1080>,\n",
       " <PIL.Image.Image image mode=RGB size=1920x1080>,\n",
       " <PIL.Image.Image image mode=RGB size=1920x1080>,\n",
       " <PIL.Image.Image image mode=RGB size=1920x1080>,\n",
       " <PIL.Image.Image image mode=RGB size=1920x1080>,\n",
       " <PIL.Image.Image image mode=RGB size=1920x1080>,\n",
       " <PIL.Image.Image image mode=RGB size=1920x1080>,\n",
       " <PIL.Image.Image image mode=RGB size=1920x1080>,\n",
       " <PIL.Image.Image image mode=RGB size=1920x1080>,\n",
       " <PIL.Image.Image image mode=RGB size=1920x1080>]"
      ]
     },
     "execution_count": 24,
     "metadata": {},
     "output_type": "execute_result"
    }
   ],
   "source": [
    "video_1 = \"https://huggingface.co/spaces/merve/llava-interleave/resolve/main/cats_1.mp4\"\n",
    "video_2 = \"https://huggingface.co/spaces/merve/llava-interleave/resolve/main/cats_2.mp4\"\n",
    "\n",
    "video_1 = sample_frames(video_1, 6)\n",
    "video_2 = sample_frames(video_2, 6)\n",
    "\n",
    "videos = video_1 + video_2\n",
    "\n",
    "videos\n",
    "\n",
    "# [<PIL.Image.Image image mode=RGB size=1920x1080>,\n",
    "# <PIL.Image.Image image mode=RGB size=1920x1080>,\n",
    "# <PIL.Image.Image image mode=RGB size=1920x1080>, ...]"
   ]
  },
  {
   "cell_type": "code",
   "execution_count": 25,
   "id": "f46196d6-276e-42ab-8721-e4531598e326",
   "metadata": {},
   "outputs": [],
   "source": [
    "user_prompt = \"What are the cats doing in each video?\"\n",
    "toks = \"<image>\" * 12\n",
    "prompt = \"<|im_start|>user\"+ toks + f\"\\n{user_prompt}<|im_end|><|im_start|>assistant\"\n",
    "inputs = processor(text=prompt, images=videos, return_tensors=\"pt\").to(model.device, model.dtype)"
   ]
  },
  {
   "cell_type": "code",
   "execution_count": null,
   "id": "640c9327-887a-4063-b395-99175cea6391",
   "metadata": {},
   "outputs": [
    {
     "name": "stderr",
     "output_type": "stream",
     "text": [
      "Setting `pad_token_id` to `eos_token_id`:151645 for open-end generation.\n"
     ]
    }
   ],
   "source": [
    "output = model.generate(**inputs, max_new_tokens=100, do_sample=False)\n",
    "print(processor.decode(output[0][2:], skip_special_tokens=True)[len(user_prompt)+10:])"
   ]
  }
 ],
 "metadata": {
  "kernelspec": {
   "display_name": "Python 3 (ipykernel)",
   "language": "python",
   "name": "python3"
  },
  "language_info": {
   "codemirror_mode": {
    "name": "ipython",
    "version": 3
   },
   "file_extension": ".py",
   "mimetype": "text/x-python",
   "name": "python",
   "nbconvert_exporter": "python",
   "pygments_lexer": "ipython3",
   "version": "3.10.12"
  }
 },
 "nbformat": 4,
 "nbformat_minor": 5
}
